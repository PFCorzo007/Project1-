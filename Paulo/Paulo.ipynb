{
 "cells": [
  {
   "cell_type": "code",
   "execution_count": 2,
   "metadata": {},
   "outputs": [
    {
     "name": "stdout",
     "output_type": "stream",
     "text": [
      "What's up guys?\n"
     ]
    }
   ],
   "source": [
    "print(\"What's up guys?\")"
   ]
  }
 ],
 "metadata": {
  "interpreter": {
   "hash": "4391dcbe6c2267ad3c44f3e6a8afcb8a4619f1667985174056e2736c1cbef605"
  },
  "kernelspec": {
   "display_name": "Python 3.8.8 64-bit ('fintech': conda)",
   "name": "python3"
  },
  "language_info": {
   "codemirror_mode": {
    "name": "ipython",
    "version": 3
   },
   "file_extension": ".py",
   "mimetype": "text/x-python",
   "name": "python",
   "nbconvert_exporter": "python",
   "pygments_lexer": "ipython3",
   "version": "3.8.8"
  },
  "orig_nbformat": 4
 },
 "nbformat": 4,
 "nbformat_minor": 2
}
